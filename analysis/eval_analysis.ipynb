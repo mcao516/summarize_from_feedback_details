{
 "cells": [
  {
   "cell_type": "code",
   "execution_count": 3,
   "id": "c4f6bc40-2e69-4289-b524-fb2782c20345",
   "metadata": {},
   "outputs": [],
   "source": [
    "import json\n",
    "import numpy as np"
   ]
  },
  {
   "cell_type": "code",
   "execution_count": 4,
   "id": "d3d5e754-fbe9-4fb7-80a7-496b4ed10e21",
   "metadata": {},
   "outputs": [],
   "source": [
    "def calculate_score_stats(json_file_path):\n",
    "    \"\"\"\n",
    "    Loads evaluation results from a JSON file and calculates the mean and\n",
    "    variance of the 'score' field.\n",
    "\n",
    "    Args:\n",
    "        json_file_path (str): The path to the JSON file containing evaluation results.\n",
    "\n",
    "    Returns:\n",
    "        tuple: A tuple containing (mean_score, variance_score, num_samples_with_scores).\n",
    "               Returns (None, None, 0) if no scores are found or the file is invalid.\n",
    "    \"\"\"\n",
    "    try:\n",
    "        with open(json_file_path, 'r') as f:\n",
    "            results = json.load(f)\n",
    "    except FileNotFoundError:\n",
    "        print(f\"Error: File not found at '{json_file_path}'\")\n",
    "        return None, None, 0\n",
    "    except json.JSONDecodeError:\n",
    "        print(f\"Error: Could not decode JSON from '{json_file_path}'\")\n",
    "        return None, None, 0\n",
    "    except Exception as e:\n",
    "        print(f\"An unexpected error occurred while reading the file: {e}\")\n",
    "        return None, None, 0\n",
    "\n",
    "    if not isinstance(results, list):\n",
    "        print(\"Error: JSON content is not a list of results.\")\n",
    "        return None, None, 0\n",
    "\n",
    "    scores = []\n",
    "    for item in results:\n",
    "        if not isinstance(item, dict):\n",
    "            print(f\"Warning: Skipping non-dictionary item in results: {item}\")\n",
    "            continue\n",
    "        if 'score' in item and item['score'] is not None:\n",
    "            try:\n",
    "                scores.append(float(item['score']))\n",
    "            except (ValueError, TypeError):\n",
    "                print(f\"Warning: Could not convert score to float for item: {item}. Skipping.\")\n",
    "        # If 'score' is missing or None, it's implicitly skipped for calculation.\n",
    "        # You could add a warning here if desired.\n",
    "\n",
    "    if not scores:\n",
    "        print(\"No valid scores found in the JSON file.\")\n",
    "        return None, None, 0\n",
    "\n",
    "    mean_score = np.mean(scores)\n",
    "    variance_score = np.var(scores, ddof=0) # ddof=0 for population variance, ddof=1 for sample variance\n",
    "    num_samples_with_scores = len(scores)\n",
    "\n",
    "    return mean_score, variance_score, num_samples_with_scores"
   ]
  },
  {
   "cell_type": "code",
   "execution_count": 15,
   "id": "82a4bef7-fcee-434b-85e5-a34bfd997a83",
   "metadata": {},
   "outputs": [
    {
     "name": "stdout",
     "output_type": "stream",
     "text": [
      "\n",
      "Statistics for scores from 'evaluation_outputs/uniform_generated_test_summaries_with_scores.json':\n",
      "  Number of samples with scores: 6553\n",
      "  Mean score:                    1.6803\n",
      "  Sample Variance of scores:     0.9966\n",
      "  Sample Standard Deviation:     0.9983\n"
     ]
    }
   ],
   "source": [
    "json_file = \"evaluation_outputs/scar1800_generated_test_summaries_with_scores_nomin.json\"\n",
    "# json_file = \"evaluation_outputs/scar1800_generated_test_summaries_with_scores.json\"\n",
    "json_file = \"evaluation_outputs/abc_generated_test_summaries_with_scores.json\"\n",
    "# json_file = \"evaluation_outputs/rlhf_generated_test_summaries_with_scores.json\"\n",
    "json_file = \"evaluation_outputs/uniform_generated_test_summaries_with_scores.json\"\n",
    "mean_val, var_val, num_samples = calculate_score_stats(json_file)\n",
    "\n",
    "if mean_val is not None and var_val is not None:\n",
    "    print(f\"\\nStatistics for scores from '{json_file}':\")\n",
    "    print(f\"  Number of samples with scores: {num_samples}\")\n",
    "    print(f\"  Mean score:                    {mean_val:.4f}\")\n",
    "    if num_samples > 1:\n",
    "        sample_var_val = np.var(np.array([s for item in json.load(open(json_file)) if 'score' in item and item['score'] is not None for s in [item['score']]]), ddof=1)\n",
    "        print(f\"  Sample Variance of scores:     {sample_var_val:.4f}\")\n",
    "        print(f\"  Sample Standard Deviation:     {np.sqrt(sample_var_val):.4f}\")\n",
    "    elif num_samples <= 1:\n",
    "        print(f\"  Sample Variance of scores:     N/A (requires >1 sample)\")\n",
    "        print(f\"  Sample Standard Deviation:     N/A (requires >1 sample)\")\n",
    "    else:\n",
    "        print(f\"  Population Variance of scores: {var_val:.4f}\")\n",
    "        print(f\"  Population Standard Deviation: {np.sqrt(var_val):.4f}\")"
   ]
  },
  {
   "cell_type": "code",
   "execution_count": 8,
   "id": "fd233e46-f7a1-40d8-b5f3-5e715ce0f46f",
   "metadata": {},
   "outputs": [],
   "source": [
    "# RLHF\n",
    "  # Number of samples with scores: 6553\n",
    "  # Mean score:                    1.5802\n",
    "  # Sample Variance of scores:     0.9844\n",
    "  # Sample Standard Deviation:     0.9922\n",
    "\n",
    "# ABC\n",
    "  # Number of samples with scores: 6553\n",
    "  # Mean score:                    2.8497\n",
    "  # Sample Variance of scores:     1.3109\n",
    "  # Sample Standard Deviation:     1.1449\n",
    "\n",
    "# SCAR\n",
    "  # Number of samples with scores: 6553\n",
    "  # Mean score:                    4.3512\n",
    "  # Sample Variance of scores:     1.0883\n",
    "  # Sample Standard Deviation:     1.0432"
   ]
  },
  {
   "cell_type": "code",
   "execution_count": 16,
   "id": "c9402db7-1110-45b7-880e-cca343b3f133",
   "metadata": {},
   "outputs": [],
   "source": [
    "numbers = [1.73093,\n",
    "1.72790,\n",
    "1.68616,\n",
    "1.68247,\n",
    "1.68202]"
   ]
  },
  {
   "cell_type": "code",
   "execution_count": 17,
   "id": "0a1581aa-c263-4e2d-82a1-55824d19896e",
   "metadata": {},
   "outputs": [
    {
     "data": {
      "text/plain": [
       "0.022535428640254446"
      ]
     },
     "execution_count": 17,
     "metadata": {},
     "output_type": "execute_result"
    }
   ],
   "source": [
    "np.std(numbers)"
   ]
  },
  {
   "cell_type": "code",
   "execution_count": null,
   "id": "9d750c6c-acba-4a41-8409-259f4713ed5a",
   "metadata": {},
   "outputs": [],
   "source": []
  }
 ],
 "metadata": {
  "kernelspec": {
   "display_name": "Python 3 (ipykernel)",
   "language": "python",
   "name": "python3"
  },
  "language_info": {
   "codemirror_mode": {
    "name": "ipython",
    "version": 3
   },
   "file_extension": ".py",
   "mimetype": "text/x-python",
   "name": "python",
   "nbconvert_exporter": "python",
   "pygments_lexer": "ipython3",
   "version": "3.10.11"
  }
 },
 "nbformat": 4,
 "nbformat_minor": 5
}
